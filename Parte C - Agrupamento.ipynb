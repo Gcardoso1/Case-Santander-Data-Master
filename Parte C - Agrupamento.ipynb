{
 "cells": [
  {
   "cell_type": "markdown",
   "id": "b3768864",
   "metadata": {},
   "source": [
    "# SANTANDER DATA MASTER - CIENTISTA DE DADOS"
   ]
  },
  {
   "cell_type": "markdown",
   "id": "7f755805",
   "metadata": {},
   "source": [
    "### Questão c) Três grupos naturais com maior lucro"
   ]
  },
  {
   "cell_type": "markdown",
   "id": "e31238e2",
   "metadata": {},
   "source": [
    "Descrição: Todo conjunto de dados é passível de ser dividido em grupos coesos, conhecidos como agrupamentos naturais. A terceira tarefa é encontrar os três grupos naturais que possuem os maiores lucros esperados por cliente (usando os mesmos valores da primeira questão)."
   ]
  },
  {
   "cell_type": "code",
   "execution_count": 1,
   "id": "0da108b2",
   "metadata": {},
   "outputs": [],
   "source": [
    "#Imports\n",
    "\n",
    "#Manipulação dos Dados\n",
    "import pandas as pd\n",
    "import numpy as np\n",
    "\n",
    "from sklearn.model_selection import train_test_split\n",
    "from imblearn.over_sampling import SMOTE\n",
    "import xgboost as xgb\n"
   ]
  },
  {
   "cell_type": "code",
   "execution_count": 2,
   "id": "0cc1e9cb",
   "metadata": {},
   "outputs": [],
   "source": [
    "df_train = pd.read_pickle('./train_1.pickle')\n",
    "df_test = pd.read_pickle('./test_1.pickle')"
   ]
  },
  {
   "cell_type": "code",
   "execution_count": 3,
   "id": "380e0838",
   "metadata": {},
   "outputs": [
    {
     "data": {
      "text/plain": [
       "((76020, 142), (75818, 141))"
      ]
     },
     "execution_count": 3,
     "metadata": {},
     "output_type": "execute_result"
    }
   ],
   "source": [
    "df_train.shape,df_test.shape"
   ]
  },
  {
   "cell_type": "code",
   "execution_count": 4,
   "id": "79408d10",
   "metadata": {},
   "outputs": [],
   "source": [
    "X_train, X_test, y_train, y_test = train_test_split(df_train.drop(['TARGET','ID'], axis = 1), df_train.TARGET, stratify = df_train.TARGET, train_size = 0.80 ,random_state = 42)"
   ]
  },
  {
   "cell_type": "code",
   "execution_count": 6,
   "id": "34da561b",
   "metadata": {},
   "outputs": [],
   "source": [
    "smote = SMOTE(sampling_strategy='minority')\n",
    "X_over, y_over = smote.fit_resample(X_train,y_train)"
   ]
  },
  {
   "cell_type": "code",
   "execution_count": null,
   "id": "8f56f4e6",
   "metadata": {},
   "outputs": [],
   "source": [
    "X_over.shape, y_over.shape"
   ]
  }
 ],
 "metadata": {
  "kernelspec": {
   "display_name": "Python 3 (ipykernel)",
   "language": "python",
   "name": "python3"
  },
  "language_info": {
   "codemirror_mode": {
    "name": "ipython",
    "version": 3
   },
   "file_extension": ".py",
   "mimetype": "text/x-python",
   "name": "python",
   "nbconvert_exporter": "python",
   "pygments_lexer": "ipython3",
   "version": "3.9.1"
  }
 },
 "nbformat": 4,
 "nbformat_minor": 5
}
